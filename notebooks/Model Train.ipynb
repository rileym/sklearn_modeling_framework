{
 "cells": [
  {
   "cell_type": "code",
   "execution_count": null,
   "metadata": {
    "collapsed": true
   },
   "outputs": [],
   "source": [
    "import sys\n",
    "sys.path.append('../src')"
   ]
  },
  {
   "cell_type": "code",
   "execution_count": null,
   "metadata": {
    "collapsed": false
   },
   "outputs": [],
   "source": [
    "import pandas as pd\n",
    "\n",
    "from sklearn.metrics.scorer import f1_scorer, roc_auc_scorer\n",
    "from sklearn.model_selection import RandomizedSearchCV\n",
    "\n",
    "import parameters\n",
    "import model_io\n",
    "from model_definitions import model_packages"
   ]
  },
  {
   "cell_type": "code",
   "execution_count": null,
   "metadata": {
    "collapsed": true
   },
   "outputs": [],
   "source": [
    "# Build Training Set\n",
    "# train_df = "
   ]
  },
  {
   "cell_type": "code",
   "execution_count": null,
   "metadata": {
    "collapsed": false,
    "scrolled": true
   },
   "outputs": [],
   "source": [
    "train_df.head()"
   ]
  },
  {
   "cell_type": "code",
   "execution_count": null,
   "metadata": {
    "collapsed": false
   },
   "outputs": [],
   "source": [
    "def get_best_model_from_result_dict(results_dict, scorer):\n",
    "    get_best_score = lambda rndm_cv_tup: scorer._sign*rndm_cv_tup[1].best_score_\n",
    "    return max(results_dict.iteritems(), key = get_best_score)"
   ]
  },
  {
   "cell_type": "code",
   "execution_count": null,
   "metadata": {
    "collapsed": false,
    "scrolled": true
   },
   "outputs": [],
   "source": [
    "n_configs = 40\n",
    "n_folds = 5\n",
    "scorer = f1_scorer\n",
    "\n",
    "results = dict()\n",
    "for name, model_pipeline, param_grid in model_packages:\n",
    "    \n",
    "    rndm_cv = RandomizedSearchCV( \n",
    "                        estimator = model_pipeline, \n",
    "                        param_distributions = param_grid, \n",
    "                        n_iter = n_configs,\n",
    "                        n_jobs = -1,\n",
    "                        cv = n_folds,\n",
    "                        random_state = 1492,\n",
    "                        scoring = scorer,\n",
    "                        verbose = -2,\n",
    "                      )\n",
    "    \n",
    "    input_columns = filter(lambda s: s != parameters.OUTCOME_COLUMN_NAME, list(train_df.columns))\n",
    "    rndm_cv.fit(train_df.loc[:, ], y = train_df.loc[:, parameters.OUTCOME_COLUMN_NAME])\n",
    "    results[name] = rndm_cv\n",
    "    \n",
    "best_model_name, best_rndm_cv = get_best_model_from_result_dict(results, scorer)    "
   ]
  },
  {
   "cell_type": "code",
   "execution_count": null,
   "metadata": {
    "collapsed": false
   },
   "outputs": [],
   "source": [
    "model_io.save_model(best_model_name, best_rndm_cv.best_estimator_)"
   ]
  }
 ],
 "metadata": {
  "kernelspec": {
   "display_name": "Python 2",
   "language": "python",
   "name": "python2"
  },
  "language_info": {
   "codemirror_mode": {
    "name": "ipython",
    "version": 2
   },
   "file_extension": ".py",
   "mimetype": "text/x-python",
   "name": "python",
   "nbconvert_exporter": "python",
   "pygments_lexer": "ipython2",
   "version": "2.7.11"
  }
 },
 "nbformat": 4,
 "nbformat_minor": 0
}
